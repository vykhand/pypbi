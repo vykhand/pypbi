{
 "cells": [
  {
   "cell_type": "code",
   "execution_count": 2,
   "metadata": {
    "collapsed": true
   },
   "outputs": [],
   "source": [
    "user_name = \"\"\n",
    "password = \"\"\n",
    "client_id = \"\""
   ]
  },
  {
   "cell_type": "code",
   "execution_count": 4,
   "metadata": {
    "collapsed": true
   },
   "outputs": [],
   "source": [
    "from pypbi.core import PowerBI\n",
    "import pypbi.classes as C"
   ]
  },
  {
   "cell_type": "code",
   "execution_count": 5,
   "metadata": {},
   "outputs": [
    {
     "name": "stdout",
     "output_type": "stream",
     "text": [
      "[2018-04-09 19:38:01,256] {log.info:103 INFO} - de317076-d3c4-4197-9c45-3d2c659043f7 - TokenRequest:Acquiring token with username password.\n",
      "[2018-04-09 19:38:01,551] {log.info:103 INFO} - de317076-d3c4-4197-9c45-3d2c659043f7 - UserRealm:User Realm Discovery Server returned this correlation_id: de317076-d3c4-4197-9c45-3d2c659043f7\n",
      "[2018-04-09 19:38:02,118] {log.info:103 INFO} - de317076-d3c4-4197-9c45-3d2c659043f7 - OAuth2Client:Get Token Server returned this correlation_id: de317076-d3c4-4197-9c45-3d2c659043f7\n"
     ]
    }
   ],
   "source": [
    "p = PowerBI(user_name, password, client_id)\n",
    "p.connect()"
   ]
  },
  {
   "cell_type": "code",
   "execution_count": 9,
   "metadata": {},
   "outputs": [
    {
     "data": {
      "text/plain": [
       "{'delete_table_rows': 'datasets/{ds_id}/tables/{tbl_name}/rows',\n",
       " 'get_dashboard_token': 'dashboard/{dashboard_id}/GenerateToken',\n",
       " 'get_dashboards': 'dashboards',\n",
       " 'get_dataset_by_id': 'datasets/{ds_id}',\n",
       " 'get_datasets': 'datasets',\n",
       " 'get_groups': 'groups',\n",
       " 'get_report_token': 'reports/{report_id}/GenerateToken',\n",
       " 'get_reports': 'reports',\n",
       " 'get_tables': 'datasets/{ds_id}/tables'}"
      ]
     },
     "execution_count": 9,
     "metadata": {},
     "output_type": "execute_result"
    }
   ],
   "source": [
    "C.API_CALLS"
   ]
  },
  {
   "cell_type": "code",
   "execution_count": 6,
   "metadata": {},
   "outputs": [
    {
     "data": {
      "text/plain": [
       "[Workspace ID: Default Name: My Workspace,\n",
       " Workspace ID: 7a0973ee-1171-49f5-94ca-e8d739e9d36a Name: BIWorkspace,\n",
       " Workspace ID: 4e4e4bd1-e7da-4a19-abad-0fecd51e9b20 Name: AA]"
      ]
     },
     "execution_count": 6,
     "metadata": {},
     "output_type": "execute_result"
    }
   ],
   "source": [
    "wks = p.get_workspaces()\n",
    "wks"
   ]
  },
  {
   "cell_type": "code",
   "execution_count": 13,
   "metadata": {},
   "outputs": [
    {
     "data": {
      "text/plain": [
       "[Report ID: 0d0b633a-1ff0-47cd-9001-6eb4ee648f6c Name: cosmosdb_dash,\n",
       " Report ID: c2f1bdb9-afd3-43f3-b1a3-98a9d20017f0 Name: Audience Analytics report,\n",
       " Report ID: a05296d9-759f-4439-99fe-44d38b46b94a Name: Audience Analytics tiles,\n",
       " Report ID: 40dbb274-778b-4fae-9704-968452c34b2a Name: Dashboard Usage Metrics Report,\n",
       " Report ID: 9823b019-8db2-4760-90da-4e4cdffb1a9d Name: filtered_report]"
      ]
     },
     "execution_count": 13,
     "metadata": {},
     "output_type": "execute_result"
    }
   ],
   "source": [
    "wks[2].get_reports()"
   ]
  },
  {
   "cell_type": "code",
   "execution_count": 7,
   "metadata": {},
   "outputs": [
    {
     "data": {
      "text/plain": [
       "Report ID: a05296d9-759f-4439-99fe-44d38b46b94a Name: Audience Analytics tiles"
      ]
     },
     "execution_count": 7,
     "metadata": {},
     "output_type": "execute_result"
    }
   ],
   "source": [
    "rep = p.get_report_by_id(\"a05296d9-759f-4439-99fe-44d38b46b94a\")\n",
    "rep"
   ]
  },
  {
   "cell_type": "code",
   "execution_count": 8,
   "metadata": {
    "scrolled": true
   },
   "outputs": [
    {
     "data": {
      "text/plain": [
       "Report ID: a05296d9-759f-4439-99fe-44d38b46b94a Name: Audience Analytics tiles"
      ]
     },
     "execution_count": 8,
     "metadata": {},
     "output_type": "execute_result"
    }
   ],
   "source": [
    "rep  = p.get_report_by_name(\"Audience Analytics tiles\")\n",
    "rep"
   ]
  },
  {
   "cell_type": "code",
   "execution_count": 10,
   "metadata": {},
   "outputs": [
    {
     "data": {
      "text/plain": [
       "'H4sIAAAAAAAEACWWxQ40yRGE3-W_tqVmsrSHZmacvk0zM6_87p61zxVSVUV-mZF__7G_Tz998z___pPgbyyMwjaJGbYHO1_6qwBF2ztBHw2RhOStET2hIahAmIbe8daI5gFnNz04UJUbCggxOP5zh0Rn4UJ4VIibm9yzCeSiVHnXpRxneTESq1BEqRBguWTmYWVkszHhmyUOWb2XBGpYBKfu2iSUxThORKQ_TKMgWlDJ01VuEstJ-i0v08KYHm79Mc6Xj9Mb1OjBTReZDu3w9Ue2Eg9iMUZHyCZq_e5l4V-mHDz-F6vA5n7bD1WXtweZ-JYImDnaRW00D2L6mEzRuoQ7oeF848o7kO2WI98_JSayGNQcTS6Xt5cAqi1TyfLJLbrO0vkSFUsxkiFuDS_camDBe6TpnwSZlaoiU_UmrwmSGRbJNeyt4frtWaEjUbLXagwpO3shpI9meyhBzdHOP2iBF3k8KCDLMCLVeOZqcSZRkMf3Js7U0TpKRQhLn85WfAHWfEbh22oSqKCWNqiv-urJ0bWfEOKXAJ88s46jh0OQrp1411SlLr0NoT07XkJ3DB5fwUs5c-5LEKs1lmXjMYElrpd0JpLFPiSR1aWg9aoKmzHrs1PutToo-xVRm0EZcT8JJscDXpyUtVyZvXAMQDWEeFsFonYur6JR6lZs7Dnq7GDW5R6UwgOVF5tZwmdtbGljfI8gqh_9yc0LXTLTz0SvI7LBRy8JtQ1bmDEwFc6p5JCpHe1F7uRWBwSyWAhuUkLbQfIuOsl5MpadP0AfHJD4RHZ-P7cxfPkYmoHYvKWVBn0DOaiMfqN23-V3t-ivtZW5rzHVcb6qWwK5PXsf9CuyBBRaguFWZYbcwS25CnTuRTZ4cvo5w348Bdb3PyJQuxe4sOZGrKAFLY_4AcUvFAdbtffc8g7nLFS1Fh3hzYZBq-QQGRNSSTv6UcjF5wkoE8U6H2eRj92XJwrPckBmi4tY0Z3v-axu44aEhRtDHhrvoBSBzdJ61vt2FZqELv2t8obOBjG4KmRFB_5pUSTcl8mFnhglP4TyAdIup9OzPsmtOAQQYFCR4Fnz0vXrAfKLUgyq8KgR1eNMvpg9TbVC_q5YB9Jry79cXk3bN1invuDglROhAW1qVS1s7XufVHXUE28S8plSn7TAkO56papsmSuhPl8GCYmAV0WrSnhNtfu1L0rD35egyS6PADXkUzINngQXzsKZzJ3iCaDrpm_xRCKiR4Gk_-GJN0ttjW7LOsZPJQgd6qDpfPKPXcexssEisIXXdYHviE8IEy6VI7pCofi6uUaPatqRCRJGdweq6fIUTCq5PMDlvZlsXT9Ui3B0s5dJwo6pcYiVZRxxJoC5Zslo31xr2TUXlvnOzFLO1WVhW2BnMraDjiWQ-3uG5dtbdj6H3HMppYJXy2kP5uoA8wI7op0B9OxD1PtO2zDcuegKnuViEudhmMvejaAsPr8uUDkWhoxBIBRF5tO5C9HOZLeANbPReBwFAFhmkniFC_pS00_eDW2tMqrBInyjO7Rxk3nyyiw_AzRocl9PRHvqh7Euwu_1FTEKZRJhZmiwY95N3d6iuRw99BPkwg_qcp1Rl5cZa4sgow5JencQ7TpEKiZGDfP8V1qY0ZT3Lbf2WKpP2B7O0ydr0taSYHKhhM4ZpmI5rY7ulVpJe5GZaDiG5bRUgQr51eaoxYU10p4rMCQjDhet8-PUoHZGSAq_THf6DaYoJTfMP4A5tLnKQi4PkKDTMDe3E6vPcKYtkeQCF8zrMb_jtWJqfdAy-X3aU7gdx0WFgWqzFU1vTUa0rdS9jLnkg25dO3Hy3b35tRdU_iBVFdMj1ncqBc6A9SQi705nw2sHMre6LUDFQuB-oQC--beYaqNi_dYwKY7-NXUKAWntu3ItbG8HIV3C03bYRUgGac9aU98XsR2lecnH9oja1jDuAq2wFWPjMzcqrNuB6YUq9aa54mYscq9123g3ElSYzwwRuOZh_eTLheMzzV_Q5VZUBR5OAUye14KYs24qWVevahu-9tH5SRA9j4fhQNvfPA2v83ghuPL0bW9_jwGeOt4K4RqoscrBcJJQDFdfwG1Rs1XTBkEuAMtrlOWr4ptJHwKQAyrgXRIFK1rl8XPZxrH09NQvKXP5LgRFr4B5rLE2JFAPgllaY1Cu5Eo4j72T9-E-VVX_7WWlOys7pE5peOKEmwRT8pDnlzg7BQFjkKLMX3_9-dcfbn3mfdKK57dmhBUqRT5_y8atu6dpIMUXLgiqU3HdAsDIBkLeepPepWYWKYW-lWPNUN21YNebgL0-uAi2sNoyhBgoM5MkS81xUYPw9uYNjK_GFleq3LhfCcOH8J-0PEx0G61cb3zHb8J7RoqVdhvE84TCYfYk_8WO6okr5-fB_EFDBfVMCMp3nJn3HyY5nFiBosEkODsbgFYLkC5LU854MkxUbZkBGQ_Fb1gXW3_u4_WKPTPC8cqEYBRO4DBaZkR6mE6C9Uc6k4Cj800RCsD8bsZi1dCi2373ZUPNAicysvKv0HuWsi6dCf88Q-5j3aLmpo2qfaZD1PGYeb4rHZ9nc0jdN7cI1bUK1Bmq_9v8zHWxKuE_LhMKBLzkHPw40_zmgA68kZz_qbymGr_7sRY_mb2REjOwZ8A0-XQMTYFnfGIJoTgnDtK3MJQokMedESz7iex7uoSBP2ElXIxszd1c_oajNfeJZ3LxItxYvp10y1Mx760C7zTBdvsaiwr_LEp1aY7rwgN7A1KXfOt2vhzddaXR8Y1r0yMCzyVLf7YsddtpA8yKXbuCIkN16oL93xqAngywxQo6hmP4MQVzanD7YkMR-Z3gxeoBFNQ8M6UQHFSzwo0YtZEylFJIaN_uc6rVrcQ5jEjPj2a4QfzO3CDb-qVkFRpo0UXtytxe3_ejdlByf0pMkond1dfxgN9Nf4RQal-ioLroKMFiLDkg66-zmZLthUOeb3bShtkpLHHOY6d_mP_PfwEtdZm8WgsAAA=='"
      ]
     },
     "execution_count": 10,
     "metadata": {},
     "output_type": "execute_result"
    }
   ],
   "source": [
    "rep.get_token(\"View\" )"
   ]
  },
  {
   "cell_type": "code",
   "execution_count": 7,
   "metadata": {},
   "outputs": [
    {
     "data": {
      "text/plain": [
       "[Dashboard ID: 1a2de85f-2106-4fa2-bda5-99ef50bee86b Name: Audience Dashboard,\n",
       " Dashboard ID: c5558acb-984a-4ed1-b37a-d9808feea1cb Name: Audience tiles]"
      ]
     },
     "execution_count": 7,
     "metadata": {},
     "output_type": "execute_result"
    }
   ],
   "source": [
    "db = wks[2].get_dashboards()\n",
    "db"
   ]
  },
  {
   "cell_type": "code",
   "execution_count": 17,
   "metadata": {
    "collapsed": true
   },
   "outputs": [],
   "source": [
    "log.setLevel(logging.DEBUG)"
   ]
  },
  {
   "cell_type": "code",
   "execution_count": 8,
   "metadata": {
    "scrolled": true
   },
   "outputs": [
    {
     "data": {
      "text/plain": [
       "'H4sIAAAAAAAEACVWx86FanJ8l7vFEumQLM2CnOGQw46c8wccsPzu_j2zr5a6SxX6f_75Zs-4ZOU___3PYvQ0VjYoBjux1oqhIrg22E9Vq3llfD-iKZ6m4HMBhCnNfXjf5ezi-qtHzBMy--Th3ubIM4_vSAeRDCFc4WXNoRfvZUiqTFuSGv_bvb7GWizQURmCCtDV5wcu6YZQ2AM7ljdqZgooJTr0h_-rzX3EG5ZwV9VOf_cyxyI1hS5D0xT8kgh_emybbPDgYYfumOxxRfcLQuhZpnorSjNwi6zg31c5qpJJEuOI4uPUelggOob1Asz9tL0ENEjXOpQZhEdE_Nz5lZQqrCQQSkaoD742AmcyldntJebsB3yGCAJ4h1dDBqM6WvFO39CxULkoX5l6Qpl3tESBtoYRGb1WeP-3y27Wyj7D1KsHkpvS0R-i0eunnZcjVSRGj6S1RYXINbCB-9YxM9rKZgmnL1AZxT2yrWONSobQKePP9u1eMqG5aJ0wGpbKT1WoNYSgbvrVPmiJ8tKbvvSaaO4bdVPZTcPynJQnLzKE473SqbXyA1iLDrLxkgwV3_Pfdvihig0SflJHYB-H-7DTKsYHzd0EF5uwhWIK1BeFUZ3FaGgVI5ImkogZZwNHTNN5ri93JtXLsS7hq842w7XF1uOB-NElVcMFSnr47N3IPSBBj0t98ULzE-QTl3tDaRigRr3JOoWXotDFGB3aj7vcqpmtgG9RTVLtd7yZ9uq-HmfxRBVRMdQDMtZDqFwZL4Ld0thfEJLieQTwnII9uPEuoDfqAeBxnOV8KKDi2fRSBI1kI4fErhO7Zy5_nrvgcnz8fK8vsnyi-yNccFBWCrboFFrifrYmNhUUN78Isy3nDFMk-skqRpF-9jgelKjgBk7Zvye1bG4daWotR6kod71q06sFhMT5svtX76OEz2d6Zs0JROHyRGVzwbuXt0oqsya0HlsWrwXPJYD8E6rrSvVDGDKWJepv39FD3qx69hHGcifMC74qtOgLV6bvL4qj9RFu6NfOZcj1_WIN2Vuo3qebdXBZt2BzkKIYfZdlhfWBp2-tKZ22Cdj9TYmrGdPlVLxpBW8yPVpewZjmQlxDPrVdvki8FNUs0bnAm6a7LgPCr2zG8dUTbGF8Nq6qKEsp7iiCToyicdmh2N1lCqluXOrAR46TXhLkw3RBqvb2CRaKH4x2S1X1c8nmBv9-icqjzzQaap83CXKA3kcdwh1QnRTBgEdg8rKFAtDfPN6-k1s_A1_VeqNqzssC3iLK8MylXw1fkufLpg-DT5gTL2Z_wQw8o-Nj5Tm3HLsyWlznLz0QkM31C7hk9eAjrYzTTa5vx2K_mE0JYevs09nynOgT7AYhWKKgN5YWp_HuHmwwk2Wnt53vBUnBJosA0yGQbXaXHTmGcFW3AyXvbmZXAfvA6kfu8kG-RwKyUA-MTUCwb1O_v--ESlx1zpUQjIPLnZX2s91nYTFqq0JWmGoGHXbi9qXSprQZqtm-eJrJ1es3x8m9dfoupS1e2Gri-WqRx3ymDEnjcu38kEmEG9F7TC3s-_yFLdOjiHUq5NwmVv7nR8ukrkwiCUBlx9QZ_CKDI5qDkbR_CAvmRUQe5u1tJSkFbv9xhnwm7olXbav2HWVukWdm94iSONL_AK3P9onhBwLIGUsOb1GQ57Ig90_l7HTwD9hvAVuXmKjWigJY_jlPHIg6I7tCXna0OkclceLTb5Z8qEWUpjS1m9miWBLZ3XOzZsAWENBZT9vfEIQ-hyFEOF4u6ALdbrlA55TCehc-N98jwHdqvETUIvCigj333U5rYLR79dcvDJTcHFzqE80XOzNF4C-ss1c1PPPndkwKygJMzYgb_hZxfzPpOvkaXYVYrgYWXPMR3HS8URwG7uWFVvqjY6jVpl-g8O5RFpTHtrg9qAdvSJidxuufvzVXLYFHQyaPCNjj4YISlrSARmZvfF63cuhfYCYq1pjoqCFLyuMmIlXPrihdsA9d14IpFkQLUCZxvonShBxriXBHnIVkwY_-PU16LqfwuU8ZVBSCyBIH6Lb-OmyUn0WisCrXwyJqw_r7l3VyxQqcUyfDneadE-kJ-hmo1V5KHV05o1Hf86DXY9XN8akPBVliiQxUHIAacaO_boxKQ48BY_2CxGbqnf3Xv_75r3_4_VnBolfP35swq890bkbcc7S-Dlr0zBQp-MZMPvuANfm5Te-hErkS6W_G-WwPY-8l2Tu8QBd4e0WGpi2e9qpCbc0RWkb9gN8PE6Njen6WQDLcrXqTMOY_UPS-wYyB3hTx3wkj4PYFmcnv4xojPZJxINE_6qJrE83qT54xVsNJfMDNvpTMnVjEpkFKi-yDjmESvVIexoz2YVo0zV6Ud4nydjZQ1jyB7vnFc9nBY7qipuPdQGTj_pGa1EBwApIswY5Ls-_4A-jQlNaXdZLzjr94pahzj4DaQ5GBauHrWy6iNc9p9V3W4zQvWbico99uIjPxQ0lzXe-4-JH6iv3cvmn-cd_5smSGm3KUqvMfmp-1rXY1_GPZsMhArqg5Fe_wg2vySZxe2Pwb5XXNnIFzr_5g2QQa87CZbDHIWoOl4ByMz04xAp71NeUrfOF8F5ncxh0elZSWHdoc4fFbRbj6fVWDn5CQZCRgpxrGnD8rxiWkco3NTumPVonTEzaC6yu50mwgMBHK1vrHkIEG48NXSg4obQeZ3PFH4hNZr_H-NRsSt_OD0VJi-BQixOXggYxq707SmzmG-emiF0W5Z7XHnKflCLlLO5bSX-w5saXkZL8FRbcahDXkeSmtusQEGxqisKgIA1FXUJl6hKP0FXivM2qtYhAdmtEsiZgDlJytpya1v5YMPEgtwoqBaEqL9j_vJ4mosuFzZRcC9YnqQa8FhxjL-8QU7Ifj0zXWBGHrBlFFdf7_0_y__wcYx9MJGgsAAA=='"
      ]
     },
     "execution_count": 8,
     "metadata": {},
     "output_type": "execute_result"
    }
   ],
   "source": [
    "db[1].get_token(\"View\")"
   ]
  },
  {
   "cell_type": "code",
   "execution_count": 10,
   "metadata": {},
   "outputs": [
    {
     "data": {
      "text/plain": [
       "'https://app.powerbi.com/embed?dashboardId=c5558acb-984a-4ed1-b37a-d9808feea1cb&tileId=f11718c6-8542-4286-bd73-a7cb0e7baed4&groupId=4e4e4bd1-e7da-4a19-abad-0fecd51e9b20'"
      ]
     },
     "execution_count": 10,
     "metadata": {},
     "output_type": "execute_result"
    }
   ],
   "source": [
    "db[1].get_embedUrl()"
   ]
  },
  {
   "cell_type": "code",
   "execution_count": 21,
   "metadata": {},
   "outputs": [
    {
     "data": {
      "text/plain": [
       "[Tile ID: f11718c6-8542-4286-bd73-a7cb0e7baed4 Name: Number of cameras,\n",
       " Tile ID: 6b5e8397-80a6-42bd-9024-cbbe67cb111d Name: Males,\n",
       " Tile ID: 7547e595-424d-4284-82fc-7a2617dbeefa Name: Females,\n",
       " Tile ID: df5202f2-5a6d-46c9-b383-cfa7ee23fc09 Name: Smile level,\n",
       " Tile ID: 5ec010da-5c23-404b-ac58-97fab29c5c50 Name: Gender Demographics,\n",
       " Tile ID: 88874fce-8317-45f8-898d-7382e2b4cb4d Name: Latest Reading,\n",
       " Tile ID: 9d4bec8b-7dca-4950-a528-b5613c563708 Name: Anger level,\n",
       " Tile ID: 84482a58-045b-43ec-98a8-d44c4c8ce5e1 Name: Emotions,\n",
       " Tile ID: 1d8f72bd-42ad-4d74-95ae-8ed2eb23a2dd Name: People count, Camera count,\n",
       " Tile ID: 0ccbf9cc-7ee5-49db-9faa-f1ce2c9a969f Name: Average age by time,\n",
       " Tile ID: 40e0ced7-3a83-4249-95bd-424dace8727d Name: People by time,\n",
       " Tile ID: 53319afc-b61e-4927-865b-fcaab72192a3 Name: People at the cameras now]"
      ]
     },
     "execution_count": 21,
     "metadata": {},
     "output_type": "execute_result"
    }
   ],
   "source": [
    "tiles = db[1].get_tiles()\n",
    "tiles"
   ]
  },
  {
   "cell_type": "code",
   "execution_count": 22,
   "metadata": {},
   "outputs": [
    {
     "data": {
      "text/plain": [
       "0"
      ]
     },
     "execution_count": 22,
     "metadata": {},
     "output_type": "execute_result"
    }
   ],
   "source": [
    "tiles[0].colSpan"
   ]
  },
  {
   "cell_type": "code",
   "execution_count": 23,
   "metadata": {},
   "outputs": [
    {
     "data": {
      "text/plain": [
       "'a05296d9-759f-4439-99fe-44d38b46b94a'"
      ]
     },
     "execution_count": 23,
     "metadata": {},
     "output_type": "execute_result"
    }
   ],
   "source": [
    "tiles[0].reportId"
   ]
  },
  {
   "cell_type": "code",
   "execution_count": 24,
   "metadata": {},
   "outputs": [
    {
     "data": {
      "text/plain": [
       "'89230206-d927-4da7-9252-9efa1b03486b'"
      ]
     },
     "execution_count": 24,
     "metadata": {},
     "output_type": "execute_result"
    }
   ],
   "source": [
    "tiles[0].datasetId"
   ]
  },
  {
   "cell_type": "code",
   "execution_count": 21,
   "metadata": {},
   "outputs": [
    {
     "name": "stdout",
     "output_type": "stream",
     "text": [
      "[2018-04-04 20:32:26,275] {core._request:38 DEBUG} - https://api.powerbi.com/v1.0/myorg/groups/4e4e4bd1-e7da-4a19-abad-0fecd51e9b20/dashboards/c5558acb-984a-4ed1-b37a-d9808feea1cb/tiles\n",
      "[2018-04-04 20:32:26,275] {core._request:38 DEBUG} - https://api.powerbi.com/v1.0/myorg/groups/4e4e4bd1-e7da-4a19-abad-0fecd51e9b20/dashboards/c5558acb-984a-4ed1-b37a-d9808feea1cb/tiles\n",
      "[2018-04-04 20:32:26,281] {connectionpool._new_conn:824 DEBUG} - Starting new HTTPS connection (1): api.powerbi.com\n",
      "[2018-04-04 20:32:26,281] {connectionpool._new_conn:824 DEBUG} - Starting new HTTPS connection (1): api.powerbi.com\n",
      "[2018-04-04 20:32:26,576] {connectionpool._make_request:396 DEBUG} - https://api.powerbi.com:443 \"GET /v1.0/myorg/groups/4e4e4bd1-e7da-4a19-abad-0fecd51e9b20/dashboards/c5558acb-984a-4ed1-b37a-d9808feea1cb/tiles HTTP/1.1\" 200 838\n",
      "[2018-04-04 20:32:26,576] {connectionpool._make_request:396 DEBUG} - https://api.powerbi.com:443 \"GET /v1.0/myorg/groups/4e4e4bd1-e7da-4a19-abad-0fecd51e9b20/dashboards/c5558acb-984a-4ed1-b37a-d9808feea1cb/tiles HTTP/1.1\" 200 838\n",
      "[2018-04-04 20:32:26,597] {core._request:43 DEBUG} - {\n",
      "  \"@odata.context\":\"http://api.powerbi.com/v1.0/myorg/groups/4e4e4bd1-e7da-4a19-abad-0fecd51e9b20/$metadata#tiles\",\"value\":[\n",
      "    {\n",
      "      \"id\":\"f11718c6-8542-4286-bd73-a7cb0e7baed4\",\"title\":\"Number of cameras\",\"embedUrl\":\"https://app.powerbi.com/embed?dashboardId=c5558acb-984a-4ed1-b37a-d9808feea1cb&tileId=f11718c6-8542-4286-bd73-a7cb0e7baed4&groupId=4e4e4bd1-e7da-4a19-abad-0fecd51e9b20\",\"rowSpan\":0,\"colSpan\":0,\"reportId\":\"a05296d9-759f-4439-99fe-44d38b46b94a\",\"datasetId\":\"89230206-d927-4da7-9252-9efa1b03486b\"\n",
      "    },{\n",
      "      \"id\":\"6b5e8397-80a6-42bd-9024-cbbe67cb111d\",\"title\":\"Males\",\"embedUrl\":\"https://app.powerbi.com/embed?dashboardId=c5558acb-984a-4ed1-b37a-d9808feea1cb&tileId=6b5e8397-80a6-42bd-9024-cbbe67cb111d&groupId=4e4e4bd1-e7da-4a19-abad-0fecd51e9b20\",\"rowSpan\":0,\"colSpan\":0,\"reportId\":\"a05296d9-759f-4439-99fe-44d38b46b94a\",\"datasetId\":\"89230206-d927-4da7-9252-9efa1b03486b\"\n",
      "    },{\n",
      "      \"id\":\"7547e595-424d-4284-82fc-7a2617dbeefa\",\"title\":\"Females\",\"embedUrl\":\"https://app.powerbi.com/embed?dashboardId=c5558acb-984a-4ed1-b37a-d9808feea1cb&tileId=7547e595-424d-4284-82fc-7a2617dbeefa&groupId=4e4e4bd1-e7da-4a19-abad-0fecd51e9b20\",\"rowSpan\":0,\"colSpan\":0,\"reportId\":\"a05296d9-759f-4439-99fe-44d38b46b94a\",\"datasetId\":\"89230206-d927-4da7-9252-9efa1b03486b\"\n",
      "    },{\n",
      "      \"id\":\"df5202f2-5a6d-46c9-b383-cfa7ee23fc09\",\"title\":\"Smile level\",\"embedUrl\":\"https://app.powerbi.com/embed?dashboardId=c5558acb-984a-4ed1-b37a-d9808feea1cb&tileId=df5202f2-5a6d-46c9-b383-cfa7ee23fc09&groupId=4e4e4bd1-e7da-4a19-abad-0fecd51e9b20\",\"rowSpan\":0,\"colSpan\":0,\"reportId\":\"a05296d9-759f-4439-99fe-44d38b46b94a\",\"datasetId\":\"89230206-d927-4da7-9252-9efa1b03486b\"\n",
      "    },{\n",
      "      \"id\":\"5ec010da-5c23-404b-ac58-97fab29c5c50\",\"title\":\"Gender Demographics\",\"embedUrl\":\"https://app.powerbi.com/embed?dashboardId=c5558acb-984a-4ed1-b37a-d9808feea1cb&tileId=5ec010da-5c23-404b-ac58-97fab29c5c50&groupId=4e4e4bd1-e7da-4a19-abad-0fecd51e9b20\",\"rowSpan\":0,\"colSpan\":0,\"reportId\":\"a05296d9-759f-4439-99fe-44d38b46b94a\",\"datasetId\":\"89230206-d927-4da7-9252-9efa1b03486b\"\n",
      "    },{\n",
      "      \"id\":\"88874fce-8317-45f8-898d-7382e2b4cb4d\",\"title\":\"Latest Reading\",\"embedUrl\":\"https://app.powerbi.com/embed?dashboardId=c5558acb-984a-4ed1-b37a-d9808feea1cb&tileId=88874fce-8317-45f8-898d-7382e2b4cb4d&groupId=4e4e4bd1-e7da-4a19-abad-0fecd51e9b20\",\"rowSpan\":0,\"colSpan\":0,\"reportId\":\"a05296d9-759f-4439-99fe-44d38b46b94a\",\"datasetId\":\"89230206-d927-4da7-9252-9efa1b03486b\"\n",
      "    },{\n",
      "      \"id\":\"9d4bec8b-7dca-4950-a528-b5613c563708\",\"title\":\"Anger level\",\"embedUrl\":\"https://app.powerbi.com/embed?dashboardId=c5558acb-984a-4ed1-b37a-d9808feea1cb&tileId=9d4bec8b-7dca-4950-a528-b5613c563708&groupId=4e4e4bd1-e7da-4a19-abad-0fecd51e9b20\",\"rowSpan\":0,\"colSpan\":0,\"reportId\":\"a05296d9-759f-4439-99fe-44d38b46b94a\",\"datasetId\":\"89230206-d927-4da7-9252-9efa1b03486b\"\n",
      "    },{\n",
      "      \"id\":\"84482a58-045b-43ec-98a8-d44c4c8ce5e1\",\"title\":\"Emotions\",\"embedUrl\":\"https://app.powerbi.com/embed?dashboardId=c5558acb-984a-4ed1-b37a-d9808feea1cb&tileId=84482a58-045b-43ec-98a8-d44c4c8ce5e1&groupId=4e4e4bd1-e7da-4a19-abad-0fecd51e9b20\",\"rowSpan\":0,\"colSpan\":0,\"reportId\":\"a05296d9-759f-4439-99fe-44d38b46b94a\",\"datasetId\":\"89230206-d927-4da7-9252-9efa1b03486b\"\n",
      "    },{\n",
      "      \"id\":\"1d8f72bd-42ad-4d74-95ae-8ed2eb23a2dd\",\"title\":\"People count, Camera count\",\"subTitle\":\"by Time, Males, Females\",\"embedUrl\":\"https://app.powerbi.com/embed?dashboardId=c5558acb-984a-4ed1-b37a-d9808feea1cb&tileId=1d8f72bd-42ad-4d74-95ae-8ed2eb23a2dd&groupId=4e4e4bd1-e7da-4a19-abad-0fecd51e9b20\",\"rowSpan\":0,\"colSpan\":0,\"reportId\":\"a05296d9-759f-4439-99fe-44d38b46b94a\",\"datasetId\":\"89230206-d927-4da7-9252-9efa1b03486b\"\n",
      "    },{\n",
      "      \"id\":\"0ccbf9cc-7ee5-49db-9faa-f1ce2c9a969f\",\"title\":\"Average age by time\",\"embedUrl\":\"https://app.powerbi.com/embed?dashboardId=c5558acb-984a-4ed1-b37a-d9808feea1cb&tileId=0ccbf9cc-7ee5-49db-9faa-f1ce2c9a969f&groupId=4e4e4bd1-e7da-4a19-abad-0fecd51e9b20\",\"rowSpan\":0,\"colSpan\":0,\"reportId\":\"a05296d9-759f-4439-99fe-44d38b46b94a\",\"datasetId\":\"89230206-d927-4da7-9252-9efa1b03486b\"\n",
      "    },{\n",
      "      \"id\":\"40e0ced7-3a83-4249-95bd-424dace8727d\",\"title\":\"People by time\",\"embedUrl\":\"https://app.powerbi.com/embed?dashboardId=c5558acb-984a-4ed1-b37a-d9808feea1cb&tileId=40e0ced7-3a83-4249-95bd-424dace8727d&groupId=4e4e4bd1-e7da-4a19-abad-0fecd51e9b20\",\"rowSpan\":0,\"colSpan\":0,\"reportId\":\"a05296d9-759f-4439-99fe-44d38b46b94a\",\"datasetId\":\"89230206-d927-4da7-9252-9efa1b03486b\"\n",
      "    },{\n",
      "      \"id\":\"53319afc-b61e-4927-865b-fcaab72192a3\",\"title\":\"People at the cameras now\",\"embedUrl\":\"https://app.powerbi.com/embed?dashboardId=c5558acb-984a-4ed1-b37a-d9808feea1cb&tileId=53319afc-b61e-4927-865b-fcaab72192a3&groupId=4e4e4bd1-e7da-4a19-abad-0fecd51e9b20\",\"rowSpan\":0,\"colSpan\":0,\"reportId\":\"a05296d9-759f-4439-99fe-44d38b46b94a\",\"datasetId\":\"89230206-d927-4da7-9252-9efa1b03486b\"\n",
      "    }\n",
      "  ]\n",
      "}\n",
      "[2018-04-04 20:32:26,597] {core._request:43 DEBUG} - {\n",
      "  \"@odata.context\":\"http://api.powerbi.com/v1.0/myorg/groups/4e4e4bd1-e7da-4a19-abad-0fecd51e9b20/$metadata#tiles\",\"value\":[\n",
      "    {\n",
      "      \"id\":\"f11718c6-8542-4286-bd73-a7cb0e7baed4\",\"title\":\"Number of cameras\",\"embedUrl\":\"https://app.powerbi.com/embed?dashboardId=c5558acb-984a-4ed1-b37a-d9808feea1cb&tileId=f11718c6-8542-4286-bd73-a7cb0e7baed4&groupId=4e4e4bd1-e7da-4a19-abad-0fecd51e9b20\",\"rowSpan\":0,\"colSpan\":0,\"reportId\":\"a05296d9-759f-4439-99fe-44d38b46b94a\",\"datasetId\":\"89230206-d927-4da7-9252-9efa1b03486b\"\n",
      "    },{\n",
      "      \"id\":\"6b5e8397-80a6-42bd-9024-cbbe67cb111d\",\"title\":\"Males\",\"embedUrl\":\"https://app.powerbi.com/embed?dashboardId=c5558acb-984a-4ed1-b37a-d9808feea1cb&tileId=6b5e8397-80a6-42bd-9024-cbbe67cb111d&groupId=4e4e4bd1-e7da-4a19-abad-0fecd51e9b20\",\"rowSpan\":0,\"colSpan\":0,\"reportId\":\"a05296d9-759f-4439-99fe-44d38b46b94a\",\"datasetId\":\"89230206-d927-4da7-9252-9efa1b03486b\"\n",
      "    },{\n",
      "      \"id\":\"7547e595-424d-4284-82fc-7a2617dbeefa\",\"title\":\"Females\",\"embedUrl\":\"https://app.powerbi.com/embed?dashboardId=c5558acb-984a-4ed1-b37a-d9808feea1cb&tileId=7547e595-424d-4284-82fc-7a2617dbeefa&groupId=4e4e4bd1-e7da-4a19-abad-0fecd51e9b20\",\"rowSpan\":0,\"colSpan\":0,\"reportId\":\"a05296d9-759f-4439-99fe-44d38b46b94a\",\"datasetId\":\"89230206-d927-4da7-9252-9efa1b03486b\"\n",
      "    },{\n",
      "      \"id\":\"df5202f2-5a6d-46c9-b383-cfa7ee23fc09\",\"title\":\"Smile level\",\"embedUrl\":\"https://app.powerbi.com/embed?dashboardId=c5558acb-984a-4ed1-b37a-d9808feea1cb&tileId=df5202f2-5a6d-46c9-b383-cfa7ee23fc09&groupId=4e4e4bd1-e7da-4a19-abad-0fecd51e9b20\",\"rowSpan\":0,\"colSpan\":0,\"reportId\":\"a05296d9-759f-4439-99fe-44d38b46b94a\",\"datasetId\":\"89230206-d927-4da7-9252-9efa1b03486b\"\n",
      "    },{\n",
      "      \"id\":\"5ec010da-5c23-404b-ac58-97fab29c5c50\",\"title\":\"Gender Demographics\",\"embedUrl\":\"https://app.powerbi.com/embed?dashboardId=c5558acb-984a-4ed1-b37a-d9808feea1cb&tileId=5ec010da-5c23-404b-ac58-97fab29c5c50&groupId=4e4e4bd1-e7da-4a19-abad-0fecd51e9b20\",\"rowSpan\":0,\"colSpan\":0,\"reportId\":\"a05296d9-759f-4439-99fe-44d38b46b94a\",\"datasetId\":\"89230206-d927-4da7-9252-9efa1b03486b\"\n",
      "    },{\n",
      "      \"id\":\"88874fce-8317-45f8-898d-7382e2b4cb4d\",\"title\":\"Latest Reading\",\"embedUrl\":\"https://app.powerbi.com/embed?dashboardId=c5558acb-984a-4ed1-b37a-d9808feea1cb&tileId=88874fce-8317-45f8-898d-7382e2b4cb4d&groupId=4e4e4bd1-e7da-4a19-abad-0fecd51e9b20\",\"rowSpan\":0,\"colSpan\":0,\"reportId\":\"a05296d9-759f-4439-99fe-44d38b46b94a\",\"datasetId\":\"89230206-d927-4da7-9252-9efa1b03486b\"\n",
      "    },{\n",
      "      \"id\":\"9d4bec8b-7dca-4950-a528-b5613c563708\",\"title\":\"Anger level\",\"embedUrl\":\"https://app.powerbi.com/embed?dashboardId=c5558acb-984a-4ed1-b37a-d9808feea1cb&tileId=9d4bec8b-7dca-4950-a528-b5613c563708&groupId=4e4e4bd1-e7da-4a19-abad-0fecd51e9b20\",\"rowSpan\":0,\"colSpan\":0,\"reportId\":\"a05296d9-759f-4439-99fe-44d38b46b94a\",\"datasetId\":\"89230206-d927-4da7-9252-9efa1b03486b\"\n",
      "    },{\n",
      "      \"id\":\"84482a58-045b-43ec-98a8-d44c4c8ce5e1\",\"title\":\"Emotions\",\"embedUrl\":\"https://app.powerbi.com/embed?dashboardId=c5558acb-984a-4ed1-b37a-d9808feea1cb&tileId=84482a58-045b-43ec-98a8-d44c4c8ce5e1&groupId=4e4e4bd1-e7da-4a19-abad-0fecd51e9b20\",\"rowSpan\":0,\"colSpan\":0,\"reportId\":\"a05296d9-759f-4439-99fe-44d38b46b94a\",\"datasetId\":\"89230206-d927-4da7-9252-9efa1b03486b\"\n",
      "    },{\n",
      "      \"id\":\"1d8f72bd-42ad-4d74-95ae-8ed2eb23a2dd\",\"title\":\"People count, Camera count\",\"subTitle\":\"by Time, Males, Females\",\"embedUrl\":\"https://app.powerbi.com/embed?dashboardId=c5558acb-984a-4ed1-b37a-d9808feea1cb&tileId=1d8f72bd-42ad-4d74-95ae-8ed2eb23a2dd&groupId=4e4e4bd1-e7da-4a19-abad-0fecd51e9b20\",\"rowSpan\":0,\"colSpan\":0,\"reportId\":\"a05296d9-759f-4439-99fe-44d38b46b94a\",\"datasetId\":\"89230206-d927-4da7-9252-9efa1b03486b\"\n",
      "    },{\n",
      "      \"id\":\"0ccbf9cc-7ee5-49db-9faa-f1ce2c9a969f\",\"title\":\"Average age by time\",\"embedUrl\":\"https://app.powerbi.com/embed?dashboardId=c5558acb-984a-4ed1-b37a-d9808feea1cb&tileId=0ccbf9cc-7ee5-49db-9faa-f1ce2c9a969f&groupId=4e4e4bd1-e7da-4a19-abad-0fecd51e9b20\",\"rowSpan\":0,\"colSpan\":0,\"reportId\":\"a05296d9-759f-4439-99fe-44d38b46b94a\",\"datasetId\":\"89230206-d927-4da7-9252-9efa1b03486b\"\n",
      "    },{\n",
      "      \"id\":\"40e0ced7-3a83-4249-95bd-424dace8727d\",\"title\":\"People by time\",\"embedUrl\":\"https://app.powerbi.com/embed?dashboardId=c5558acb-984a-4ed1-b37a-d9808feea1cb&tileId=40e0ced7-3a83-4249-95bd-424dace8727d&groupId=4e4e4bd1-e7da-4a19-abad-0fecd51e9b20\",\"rowSpan\":0,\"colSpan\":0,\"reportId\":\"a05296d9-759f-4439-99fe-44d38b46b94a\",\"datasetId\":\"89230206-d927-4da7-9252-9efa1b03486b\"\n",
      "    },{\n",
      "      \"id\":\"53319afc-b61e-4927-865b-fcaab72192a3\",\"title\":\"People at the cameras now\",\"embedUrl\":\"https://app.powerbi.com/embed?dashboardId=c5558acb-984a-4ed1-b37a-d9808feea1cb&tileId=53319afc-b61e-4927-865b-fcaab72192a3&groupId=4e4e4bd1-e7da-4a19-abad-0fecd51e9b20\",\"rowSpan\":0,\"colSpan\":0,\"reportId\":\"a05296d9-759f-4439-99fe-44d38b46b94a\",\"datasetId\":\"89230206-d927-4da7-9252-9efa1b03486b\"\n",
      "    }\n",
      "  ]\n",
      "}\n"
     ]
    },
    {
     "data": {
      "text/plain": [
       "[{'colSpan': 0,\n",
       "  'datasetId': '89230206-d927-4da7-9252-9efa1b03486b',\n",
       "  'embedUrl': 'https://app.powerbi.com/embed?dashboardId=c5558acb-984a-4ed1-b37a-d9808feea1cb&tileId=f11718c6-8542-4286-bd73-a7cb0e7baed4&groupId=4e4e4bd1-e7da-4a19-abad-0fecd51e9b20',\n",
       "  'id': 'f11718c6-8542-4286-bd73-a7cb0e7baed4',\n",
       "  'reportId': 'a05296d9-759f-4439-99fe-44d38b46b94a',\n",
       "  'rowSpan': 0,\n",
       "  'title': 'Number of cameras'},\n",
       " {'colSpan': 0,\n",
       "  'datasetId': '89230206-d927-4da7-9252-9efa1b03486b',\n",
       "  'embedUrl': 'https://app.powerbi.com/embed?dashboardId=c5558acb-984a-4ed1-b37a-d9808feea1cb&tileId=6b5e8397-80a6-42bd-9024-cbbe67cb111d&groupId=4e4e4bd1-e7da-4a19-abad-0fecd51e9b20',\n",
       "  'id': '6b5e8397-80a6-42bd-9024-cbbe67cb111d',\n",
       "  'reportId': 'a05296d9-759f-4439-99fe-44d38b46b94a',\n",
       "  'rowSpan': 0,\n",
       "  'title': 'Males'},\n",
       " {'colSpan': 0,\n",
       "  'datasetId': '89230206-d927-4da7-9252-9efa1b03486b',\n",
       "  'embedUrl': 'https://app.powerbi.com/embed?dashboardId=c5558acb-984a-4ed1-b37a-d9808feea1cb&tileId=7547e595-424d-4284-82fc-7a2617dbeefa&groupId=4e4e4bd1-e7da-4a19-abad-0fecd51e9b20',\n",
       "  'id': '7547e595-424d-4284-82fc-7a2617dbeefa',\n",
       "  'reportId': 'a05296d9-759f-4439-99fe-44d38b46b94a',\n",
       "  'rowSpan': 0,\n",
       "  'title': 'Females'},\n",
       " {'colSpan': 0,\n",
       "  'datasetId': '89230206-d927-4da7-9252-9efa1b03486b',\n",
       "  'embedUrl': 'https://app.powerbi.com/embed?dashboardId=c5558acb-984a-4ed1-b37a-d9808feea1cb&tileId=df5202f2-5a6d-46c9-b383-cfa7ee23fc09&groupId=4e4e4bd1-e7da-4a19-abad-0fecd51e9b20',\n",
       "  'id': 'df5202f2-5a6d-46c9-b383-cfa7ee23fc09',\n",
       "  'reportId': 'a05296d9-759f-4439-99fe-44d38b46b94a',\n",
       "  'rowSpan': 0,\n",
       "  'title': 'Smile level'},\n",
       " {'colSpan': 0,\n",
       "  'datasetId': '89230206-d927-4da7-9252-9efa1b03486b',\n",
       "  'embedUrl': 'https://app.powerbi.com/embed?dashboardId=c5558acb-984a-4ed1-b37a-d9808feea1cb&tileId=5ec010da-5c23-404b-ac58-97fab29c5c50&groupId=4e4e4bd1-e7da-4a19-abad-0fecd51e9b20',\n",
       "  'id': '5ec010da-5c23-404b-ac58-97fab29c5c50',\n",
       "  'reportId': 'a05296d9-759f-4439-99fe-44d38b46b94a',\n",
       "  'rowSpan': 0,\n",
       "  'title': 'Gender Demographics'},\n",
       " {'colSpan': 0,\n",
       "  'datasetId': '89230206-d927-4da7-9252-9efa1b03486b',\n",
       "  'embedUrl': 'https://app.powerbi.com/embed?dashboardId=c5558acb-984a-4ed1-b37a-d9808feea1cb&tileId=88874fce-8317-45f8-898d-7382e2b4cb4d&groupId=4e4e4bd1-e7da-4a19-abad-0fecd51e9b20',\n",
       "  'id': '88874fce-8317-45f8-898d-7382e2b4cb4d',\n",
       "  'reportId': 'a05296d9-759f-4439-99fe-44d38b46b94a',\n",
       "  'rowSpan': 0,\n",
       "  'title': 'Latest Reading'},\n",
       " {'colSpan': 0,\n",
       "  'datasetId': '89230206-d927-4da7-9252-9efa1b03486b',\n",
       "  'embedUrl': 'https://app.powerbi.com/embed?dashboardId=c5558acb-984a-4ed1-b37a-d9808feea1cb&tileId=9d4bec8b-7dca-4950-a528-b5613c563708&groupId=4e4e4bd1-e7da-4a19-abad-0fecd51e9b20',\n",
       "  'id': '9d4bec8b-7dca-4950-a528-b5613c563708',\n",
       "  'reportId': 'a05296d9-759f-4439-99fe-44d38b46b94a',\n",
       "  'rowSpan': 0,\n",
       "  'title': 'Anger level'},\n",
       " {'colSpan': 0,\n",
       "  'datasetId': '89230206-d927-4da7-9252-9efa1b03486b',\n",
       "  'embedUrl': 'https://app.powerbi.com/embed?dashboardId=c5558acb-984a-4ed1-b37a-d9808feea1cb&tileId=84482a58-045b-43ec-98a8-d44c4c8ce5e1&groupId=4e4e4bd1-e7da-4a19-abad-0fecd51e9b20',\n",
       "  'id': '84482a58-045b-43ec-98a8-d44c4c8ce5e1',\n",
       "  'reportId': 'a05296d9-759f-4439-99fe-44d38b46b94a',\n",
       "  'rowSpan': 0,\n",
       "  'title': 'Emotions'},\n",
       " {'colSpan': 0,\n",
       "  'datasetId': '89230206-d927-4da7-9252-9efa1b03486b',\n",
       "  'embedUrl': 'https://app.powerbi.com/embed?dashboardId=c5558acb-984a-4ed1-b37a-d9808feea1cb&tileId=1d8f72bd-42ad-4d74-95ae-8ed2eb23a2dd&groupId=4e4e4bd1-e7da-4a19-abad-0fecd51e9b20',\n",
       "  'id': '1d8f72bd-42ad-4d74-95ae-8ed2eb23a2dd',\n",
       "  'reportId': 'a05296d9-759f-4439-99fe-44d38b46b94a',\n",
       "  'rowSpan': 0,\n",
       "  'subTitle': 'by Time, Males, Females',\n",
       "  'title': 'People count, Camera count'},\n",
       " {'colSpan': 0,\n",
       "  'datasetId': '89230206-d927-4da7-9252-9efa1b03486b',\n",
       "  'embedUrl': 'https://app.powerbi.com/embed?dashboardId=c5558acb-984a-4ed1-b37a-d9808feea1cb&tileId=0ccbf9cc-7ee5-49db-9faa-f1ce2c9a969f&groupId=4e4e4bd1-e7da-4a19-abad-0fecd51e9b20',\n",
       "  'id': '0ccbf9cc-7ee5-49db-9faa-f1ce2c9a969f',\n",
       "  'reportId': 'a05296d9-759f-4439-99fe-44d38b46b94a',\n",
       "  'rowSpan': 0,\n",
       "  'title': 'Average age by time'},\n",
       " {'colSpan': 0,\n",
       "  'datasetId': '89230206-d927-4da7-9252-9efa1b03486b',\n",
       "  'embedUrl': 'https://app.powerbi.com/embed?dashboardId=c5558acb-984a-4ed1-b37a-d9808feea1cb&tileId=40e0ced7-3a83-4249-95bd-424dace8727d&groupId=4e4e4bd1-e7da-4a19-abad-0fecd51e9b20',\n",
       "  'id': '40e0ced7-3a83-4249-95bd-424dace8727d',\n",
       "  'reportId': 'a05296d9-759f-4439-99fe-44d38b46b94a',\n",
       "  'rowSpan': 0,\n",
       "  'title': 'People by time'},\n",
       " {'colSpan': 0,\n",
       "  'datasetId': '89230206-d927-4da7-9252-9efa1b03486b',\n",
       "  'embedUrl': 'https://app.powerbi.com/embed?dashboardId=c5558acb-984a-4ed1-b37a-d9808feea1cb&tileId=53319afc-b61e-4927-865b-fcaab72192a3&groupId=4e4e4bd1-e7da-4a19-abad-0fecd51e9b20',\n",
       "  'id': '53319afc-b61e-4927-865b-fcaab72192a3',\n",
       "  'reportId': 'a05296d9-759f-4439-99fe-44d38b46b94a',\n",
       "  'rowSpan': 0,\n",
       "  'title': 'People at the cameras now'}]"
      ]
     },
     "execution_count": 21,
     "metadata": {},
     "output_type": "execute_result"
    }
   ],
   "source": [
    "p._request(\"https://api.powerbi.com/v1.0/myorg/groups/4e4e4bd1-e7da-4a19-abad-0fecd51e9b20/dashboards/c5558acb-984a-4ed1-b37a-d9808feea1cb/tiles\")"
   ]
  },
  {
   "cell_type": "code",
   "execution_count": 10,
   "metadata": {},
   "outputs": [
    {
     "data": {
      "text/plain": [
       "[Dataset ID: e6262d39-920b-4307-8d6c-37209a817413 Name: cosmosdb_dash,\n",
       " Dataset ID: a69408d7-e1fc-4ffd-857a-37cb25f2fe81 Name: Dashboard Usage Metrics Model,\n",
       " Dataset ID: 5f9b6937-5d00-47bd-9854-4ee648b9f856 Name: dataset-aa-sessions,\n",
       " Dataset ID: 89230206-d927-4da7-9252-9efa1b03486b Name: dataset-audience-analysis,\n",
       " Dataset ID: 27cceec5-2da2-4cba-ba1a-f53b4603b376 Name: Procurement Analysis Sample]"
      ]
     },
     "execution_count": 10,
     "metadata": {},
     "output_type": "execute_result"
    }
   ],
   "source": [
    "datasets = wks[2].get_datasets()\n",
    "datasets"
   ]
  },
  {
   "cell_type": "code",
   "execution_count": 11,
   "metadata": {},
   "outputs": [
    {
     "data": {
      "text/plain": [
       "[Table: table-aa-sessions]"
      ]
     },
     "execution_count": 11,
     "metadata": {},
     "output_type": "execute_result"
    }
   ],
   "source": [
    "tables = datasets[2].get_tables()\n",
    "tables"
   ]
  },
  {
   "cell_type": "code",
   "execution_count": 12,
   "metadata": {
    "collapsed": true
   },
   "outputs": [],
   "source": [
    "tables[0].delete_rows()"
   ]
  }
 ],
 "metadata": {
  "kernelspec": {
   "display_name": "Python 3",
   "language": "python",
   "name": "python3"
  },
  "language_info": {
   "codemirror_mode": {
    "name": "ipython",
    "version": 3
   },
   "file_extension": ".py",
   "mimetype": "text/x-python",
   "name": "python",
   "nbconvert_exporter": "python",
   "pygments_lexer": "ipython3",
   "version": "3.6.4"
  }
 },
 "nbformat": 4,
 "nbformat_minor": 2
}
