{
 "cells": [
  {
   "cell_type": "code",
   "execution_count": 1,
   "metadata": {
    "collapsed": true
   },
   "outputs": [],
   "source": [
    "%load_ext autoreload\n",
    "%autoreload 2"
   ]
  },
  {
   "cell_type": "code",
   "execution_count": 2,
   "metadata": {
    "collapsed": true
   },
   "outputs": [],
   "source": [
    "user_name = \"bob@swearjarbank.onmicrosoft.com\"\n",
    "password = \"Notaword9.\"\n",
    "client_id = \"0bc99f0e-d315-474a-971c-bb76f155750b\""
   ]
  },
  {
   "cell_type": "code",
   "execution_count": 3,
   "metadata": {
    "collapsed": true
   },
   "outputs": [],
   "source": [
    "import logging, sys\n",
    "log = logging.getLogger()\n",
    "log.setLevel(logging.INFO)\n",
    "\n",
    "formatter = logging.Formatter('[%(asctime)s] {%(module)s.%(funcName)s:%(lineno)d %(levelname)s} - %(message)s')\n",
    "#'%m-%d %H:%M:%S'\n",
    "handl = logging.StreamHandler(stream = sys.stdout)\n",
    "handl.setFormatter(formatter)\n",
    "log.addHandler(handl)\n"
   ]
  },
  {
   "cell_type": "code",
   "execution_count": 4,
   "metadata": {
    "collapsed": true
   },
   "outputs": [],
   "source": [
    "from pypbi.core import PowerBI\n",
    "import pypbi.classes as C"
   ]
  },
  {
   "cell_type": "code",
   "execution_count": 5,
   "metadata": {},
   "outputs": [
    {
     "name": "stdout",
     "output_type": "stream",
     "text": [
      "[2018-04-04 15:20:24,848] {log.info:103 INFO} - 4917f2e1-df9c-43ca-9c1e-03fd4e494050 - TokenRequest:Acquiring token with username password.\n",
      "[2018-04-04 15:20:25,181] {log.info:103 INFO} - 4917f2e1-df9c-43ca-9c1e-03fd4e494050 - UserRealm:User Realm Discovery Server returned this correlation_id: 4917f2e1-df9c-43ca-9c1e-03fd4e494050\n",
      "[2018-04-04 15:20:25,653] {log.info:103 INFO} - 4917f2e1-df9c-43ca-9c1e-03fd4e494050 - OAuth2Client:Get Token Server returned this correlation_id: 4917f2e1-df9c-43ca-9c1e-03fd4e494050\n"
     ]
    }
   ],
   "source": [
    "p = PowerBI(user_name, password, client_id)\n",
    "p.connect()"
   ]
  },
  {
   "cell_type": "code",
   "execution_count": 9,
   "metadata": {},
   "outputs": [
    {
     "data": {
      "text/plain": [
       "{'delete_table_rows': 'datasets/{ds_id}/tables/{tbl_name}/rows',\n",
       " 'get_dashboard_token': 'dashboard/{dashboard_id}/GenerateToken',\n",
       " 'get_dashboards': 'dashboards',\n",
       " 'get_dataset_by_id': 'datasets/{ds_id}',\n",
       " 'get_datasets': 'datasets',\n",
       " 'get_groups': 'groups',\n",
       " 'get_report_token': 'reports/{report_id}/GenerateToken',\n",
       " 'get_reports': 'reports',\n",
       " 'get_tables': 'datasets/{ds_id}/tables'}"
      ]
     },
     "execution_count": 9,
     "metadata": {},
     "output_type": "execute_result"
    }
   ],
   "source": [
    "C.API_CALLS"
   ]
  },
  {
   "cell_type": "code",
   "execution_count": 6,
   "metadata": {},
   "outputs": [
    {
     "data": {
      "text/plain": [
       "[Workspace ID: Default Name: My Workspace,\n",
       " Workspace ID: 7a0973ee-1171-49f5-94ca-e8d739e9d36a Name: BIWorkspace,\n",
       " Workspace ID: 4e4e4bd1-e7da-4a19-abad-0fecd51e9b20 Name: AA]"
      ]
     },
     "execution_count": 6,
     "metadata": {},
     "output_type": "execute_result"
    }
   ],
   "source": [
    "wks = p.get_workspaces()\n",
    "wks"
   ]
  },
  {
   "cell_type": "code",
   "execution_count": 11,
   "metadata": {},
   "outputs": [
    {
     "data": {
      "text/plain": [
       "[Dataset ID: e6262d39-920b-4307-8d6c-37209a817413 Name: cosmosdb_dash,\n",
       " Dataset ID: a69408d7-e1fc-4ffd-857a-37cb25f2fe81 Name: Dashboard Usage Metrics Model,\n",
       " Dataset ID: 5f9b6937-5d00-47bd-9854-4ee648b9f856 Name: dataset-aa-sessions,\n",
       " Dataset ID: 89230206-d927-4da7-9252-9efa1b03486b Name: dataset-audience-analysis,\n",
       " Dataset ID: 27cceec5-2da2-4cba-ba1a-f53b4603b376 Name: Procurement Analysis Sample]"
      ]
     },
     "execution_count": 11,
     "metadata": {},
     "output_type": "execute_result"
    }
   ],
   "source": [
    "datasets = wks[2].get_datasets()\n",
    "datasets"
   ]
  },
  {
   "cell_type": "code",
   "execution_count": 12,
   "metadata": {},
   "outputs": [
    {
     "data": {
      "text/plain": [
       "[Dataset ID: e6262d39-920b-4307-8d6c-37209a817413 Name: cosmosdb_dash,\n",
       " Dataset ID: a69408d7-e1fc-4ffd-857a-37cb25f2fe81 Name: Dashboard Usage Metrics Model,\n",
       " Dataset ID: 5f9b6937-5d00-47bd-9854-4ee648b9f856 Name: dataset-aa-sessions,\n",
       " Dataset ID: 89230206-d927-4da7-9252-9efa1b03486b Name: dataset-audience-analysis,\n",
       " Dataset ID: 27cceec5-2da2-4cba-ba1a-f53b4603b376 Name: Procurement Analysis Sample]"
      ]
     },
     "execution_count": 12,
     "metadata": {},
     "output_type": "execute_result"
    }
   ],
   "source": [
    "wks[2].get_datasets()"
   ]
  },
  {
   "cell_type": "code",
   "execution_count": 13,
   "metadata": {},
   "outputs": [
    {
     "data": {
      "text/plain": [
       "[Report ID: 0d0b633a-1ff0-47cd-9001-6eb4ee648f6c Name: cosmosdb_dash,\n",
       " Report ID: c2f1bdb9-afd3-43f3-b1a3-98a9d20017f0 Name: Audience Analytics report,\n",
       " Report ID: a05296d9-759f-4439-99fe-44d38b46b94a Name: Audience Analytics tiles,\n",
       " Report ID: 40dbb274-778b-4fae-9704-968452c34b2a Name: Dashboard Usage Metrics Report,\n",
       " Report ID: 9823b019-8db2-4760-90da-4e4cdffb1a9d Name: filtered_report]"
      ]
     },
     "execution_count": 13,
     "metadata": {},
     "output_type": "execute_result"
    }
   ],
   "source": [
    "wks[2].get_reports()"
   ]
  },
  {
   "cell_type": "code",
   "execution_count": 7,
   "metadata": {},
   "outputs": [
    {
     "data": {
      "text/plain": [
       "Report ID: a05296d9-759f-4439-99fe-44d38b46b94a Name: Audience Analytics tiles"
      ]
     },
     "execution_count": 7,
     "metadata": {},
     "output_type": "execute_result"
    }
   ],
   "source": [
    "p.get_report_by_id(\"a05296d9-759f-4439-99fe-44d38b46b94a\")"
   ]
  },
  {
   "cell_type": "code",
   "execution_count": 6,
   "metadata": {
    "scrolled": true
   },
   "outputs": [
    {
     "data": {
      "text/plain": [
       "Report ID: a05296d9-759f-4439-99fe-44d38b46b94a Name: Audience Analytics tiles"
      ]
     },
     "execution_count": 6,
     "metadata": {},
     "output_type": "execute_result"
    }
   ],
   "source": [
    "rep  = p.get_report_by_name(\"Audience Analytics tiles\")\n",
    "rep"
   ]
  },
  {
   "cell_type": "code",
   "execution_count": 11,
   "metadata": {
    "collapsed": true
   },
   "outputs": [],
   "source": [
    "log.setLevel(logging.INFO)"
   ]
  },
  {
   "cell_type": "code",
   "execution_count": 8,
   "metadata": {},
   "outputs": [
    {
     "name": "stdout",
     "output_type": "stream",
     "text": [
      "Automatic pdb calling has been turned ON\n"
     ]
    }
   ],
   "source": [
    "%pdb on"
   ]
  },
  {
   "cell_type": "code",
   "execution_count": 7,
   "metadata": {
    "collapsed": true
   },
   "outputs": [],
   "source": [
    "post_data = \\\n",
    "    \"\"\"\n",
    "        {\n",
    "            \"accessLevel\": \"View\"\n",
    "        }\n",
    "    \"\"\"\n",
    "    \n",
    "headers = {'Authorization': 'Bearer ' + p._aad_token}\n",
    "headers.update({'Content-type': 'application/json'})"
   ]
  },
  {
   "cell_type": "code",
   "execution_count": 8,
   "metadata": {},
   "outputs": [
    {
     "data": {
      "text/plain": [
       "'4e4e4bd1-e7da-4a19-abad-0fecd51e9b20'"
      ]
     },
     "execution_count": 8,
     "metadata": {},
     "output_type": "execute_result"
    }
   ],
   "source": [
    "rep.wks_id"
   ]
  },
  {
   "cell_type": "code",
   "execution_count": 10,
   "metadata": {},
   "outputs": [
    {
     "data": {
      "text/plain": [
       "'https://api.powerbi.com/v1.0/myorg/groups/{wks_id}/reports/{report_id}/GenerateToken'"
      ]
     },
     "execution_count": 10,
     "metadata": {},
     "output_type": "execute_result"
    }
   ],
   "source": [
    "C.get_api_call(\"get_report_token\", rep.wks_id)"
   ]
  },
  {
   "cell_type": "code",
   "execution_count": 18,
   "metadata": {},
   "outputs": [
    {
     "data": {
      "text/plain": [
       "'https://api.powerbi.com/v1.0/myorg/groups/4e4e4bd1-e7da-4a19-abad-0fecd51e9b20/reports/a05296d9-759f-4439-99fe-44d38b46b94a/GenerateToken'"
      ]
     },
     "execution_count": 18,
     "metadata": {},
     "output_type": "execute_result"
    }
   ],
   "source": [
    "cll = \"https://api.powerbi.com/v1.0/myorg/groups/{}/reports/{}/GenerateToken\".format(rep.wks_id, rep.report_id) \n",
    "cll"
   ]
  },
  {
   "cell_type": "code",
   "execution_count": 13,
   "metadata": {
    "scrolled": true
   },
   "outputs": [
    {
     "data": {
      "text/plain": [
       "'https://api.powerbi.com/v1.0/myorg/groups/4e4e4bd1-e7da-4a19-abad-0fecd51e9b20/reports/a05296d9-759f-4439-99fe-44d38b46b94a/GenerateToken'"
      ]
     },
     "execution_count": 13,
     "metadata": {},
     "output_type": "execute_result"
    }
   ],
   "source": [
    "cll = 'https://api.powerbi.com/v1.0/myorg/groups/' + rep.wks_id + \\\n",
    "         '/reports/' + rep.report_id + '/GenerateToken'\n",
    "cll"
   ]
  },
  {
   "cell_type": "code",
   "execution_count": 15,
   "metadata": {},
   "outputs": [
    {
     "name": "stdout",
     "output_type": "stream",
     "text": [
      "Automatic pdb calling has been turned ON\n"
     ]
    }
   ],
   "source": [
    "%pdb on"
   ]
  },
  {
   "cell_type": "code",
   "execution_count": 19,
   "metadata": {
    "scrolled": false
   },
   "outputs": [
    {
     "ename": "RuntimeError",
     "evalue": "Site returned error: {'error': {'code': 'InvalidRequest', 'message': 'Only group admin can embed group content'}}",
     "output_type": "error",
     "traceback": [
      "\u001b[1;31m---------------------------------------------------------------------------\u001b[0m",
      "\u001b[1;31mRuntimeError\u001b[0m                              Traceback (most recent call last)",
      "\u001b[1;32m<ipython-input-19-44e21b261063>\u001b[0m in \u001b[0;36m<module>\u001b[1;34m()\u001b[0m\n\u001b[1;32m----> 1\u001b[1;33m \u001b[0mp\u001b[0m\u001b[1;33m.\u001b[0m\u001b[0m_request\u001b[0m\u001b[1;33m(\u001b[0m\u001b[0mcll\u001b[0m\u001b[1;33m,\u001b[0m \u001b[0mrequest_type\u001b[0m\u001b[1;33m=\u001b[0m\u001b[1;34m\"post\"\u001b[0m\u001b[1;33m,\u001b[0m \u001b[0madd_headers\u001b[0m \u001b[1;33m=\u001b[0m \u001b[0mheaders\u001b[0m\u001b[1;33m,\u001b[0m \u001b[0mdata\u001b[0m \u001b[1;33m=\u001b[0m \u001b[0mpost_data\u001b[0m\u001b[1;33m)\u001b[0m\u001b[1;33m\u001b[0m\u001b[0m\n\u001b[0m",
      "\u001b[1;32mC:\\10.DEV_REPOS\\pypbi\\pypbi\\core.py\u001b[0m in \u001b[0;36m_request\u001b[1;34m(self, req, request_type, add_headers, **params)\u001b[0m\n\u001b[0;32m     47\u001b[0m \u001b[1;33m\u001b[0m\u001b[0m\n\u001b[0;32m     48\u001b[0m         \u001b[1;32mif\u001b[0m \u001b[1;34m\"error\"\u001b[0m \u001b[1;32min\u001b[0m \u001b[0mresp\u001b[0m\u001b[1;33m:\u001b[0m\u001b[1;33m\u001b[0m\u001b[0m\n\u001b[1;32m---> 49\u001b[1;33m             \u001b[1;32mraise\u001b[0m \u001b[0mRuntimeError\u001b[0m\u001b[1;33m(\u001b[0m\u001b[1;34m\"Site returned error: \"\u001b[0m \u001b[1;33m+\u001b[0m \u001b[0mstr\u001b[0m\u001b[1;33m(\u001b[0m\u001b[0mresp\u001b[0m\u001b[1;33m)\u001b[0m\u001b[1;33m)\u001b[0m\u001b[1;33m\u001b[0m\u001b[0m\n\u001b[0m\u001b[0;32m     50\u001b[0m         \u001b[1;32mreturn\u001b[0m \u001b[0mjson\u001b[0m\u001b[1;33m.\u001b[0m\u001b[0mloads\u001b[0m\u001b[1;33m(\u001b[0m\u001b[0mresponse\u001b[0m\u001b[1;33m.\u001b[0m\u001b[0mtext\u001b[0m\u001b[1;33m)\u001b[0m\u001b[1;33m[\u001b[0m\u001b[1;34m\"value\"\u001b[0m\u001b[1;33m]\u001b[0m\u001b[1;33m\u001b[0m\u001b[0m\n\u001b[0;32m     51\u001b[0m     \u001b[1;32mdef\u001b[0m \u001b[0mget_workspaces\u001b[0m\u001b[1;33m(\u001b[0m\u001b[0mself\u001b[0m\u001b[1;33m)\u001b[0m\u001b[1;33m:\u001b[0m\u001b[1;33m\u001b[0m\u001b[0m\n",
      "\u001b[1;31mRuntimeError\u001b[0m: Site returned error: {'error': {'code': 'InvalidRequest', 'message': 'Only group admin can embed group content'}}"
     ]
    },
    {
     "name": "stdout",
     "output_type": "stream",
     "text": [
      "> \u001b[1;32mc:\\10.dev_repos\\pypbi\\pypbi\\core.py\u001b[0m(49)\u001b[0;36m_request\u001b[1;34m()\u001b[0m\n",
      "\u001b[1;32m     47 \u001b[1;33m\u001b[1;33m\u001b[0m\u001b[0m\n",
      "\u001b[0m\u001b[1;32m     48 \u001b[1;33m        \u001b[1;32mif\u001b[0m \u001b[1;34m\"error\"\u001b[0m \u001b[1;32min\u001b[0m \u001b[0mresp\u001b[0m\u001b[1;33m:\u001b[0m\u001b[1;33m\u001b[0m\u001b[0m\n",
      "\u001b[0m\u001b[1;32m---> 49 \u001b[1;33m            \u001b[1;32mraise\u001b[0m \u001b[0mRuntimeError\u001b[0m\u001b[1;33m(\u001b[0m\u001b[1;34m\"Site returned error: \"\u001b[0m \u001b[1;33m+\u001b[0m \u001b[0mstr\u001b[0m\u001b[1;33m(\u001b[0m\u001b[0mresp\u001b[0m\u001b[1;33m)\u001b[0m\u001b[1;33m)\u001b[0m\u001b[1;33m\u001b[0m\u001b[0m\n",
      "\u001b[0m\u001b[1;32m     50 \u001b[1;33m        \u001b[1;32mreturn\u001b[0m \u001b[0mjson\u001b[0m\u001b[1;33m.\u001b[0m\u001b[0mloads\u001b[0m\u001b[1;33m(\u001b[0m\u001b[0mresponse\u001b[0m\u001b[1;33m.\u001b[0m\u001b[0mtext\u001b[0m\u001b[1;33m)\u001b[0m\u001b[1;33m[\u001b[0m\u001b[1;34m\"value\"\u001b[0m\u001b[1;33m]\u001b[0m\u001b[1;33m\u001b[0m\u001b[0m\n",
      "\u001b[0m\u001b[1;32m     51 \u001b[1;33m    \u001b[1;32mdef\u001b[0m \u001b[0mget_workspaces\u001b[0m\u001b[1;33m(\u001b[0m\u001b[0mself\u001b[0m\u001b[1;33m)\u001b[0m\u001b[1;33m:\u001b[0m\u001b[1;33m\u001b[0m\u001b[0m\n",
      "\u001b[0m\n",
      "ipdb> q\n"
     ]
    }
   ],
   "source": [
    "p._request(cll, request_type=\"post\", add_headers = headers, data = post_data)"
   ]
  },
  {
   "cell_type": "code",
   "execution_count": 24,
   "metadata": {},
   "outputs": [],
   "source": [
    "#rep.get_token(\"View\" )"
   ]
  },
  {
   "cell_type": "code",
   "execution_count": 9,
   "metadata": {},
   "outputs": [
    {
     "name": "stdout",
     "output_type": "stream",
     "text": [
      "[2018-04-04 02:12:48,391] {core._request:38 DEBUG} - https://api.powerbi.com/v1.0/myorg/groups/4e4e4bd1-e7da-4a19-abad-0fecd51e9b20/datasets/5f9b6937-5d00-47bd-9854-4ee648b9f856/tables\n",
      "[2018-04-04 02:12:48,397] {connectionpool._new_conn:824 DEBUG} - Starting new HTTPS connection (1): api.powerbi.com\n",
      "[2018-04-04 02:12:48,844] {connectionpool._make_request:396 DEBUG} - https://api.powerbi.com:443 \"GET /v1.0/myorg/groups/4e4e4bd1-e7da-4a19-abad-0fecd51e9b20/datasets/5f9b6937-5d00-47bd-9854-4ee648b9f856/tables HTTP/1.1\" 200 188\n",
      "[2018-04-04 02:12:48,849] {core._request:43 DEBUG} - {\n",
      "  \"@odata.context\":\"http://wabi-uk-south-redirect.analysis.windows.net/v1.0/myorg/groups/4e4e4bd1-e7da-4a19-abad-0fecd51e9b20/$metadata#tables\",\"value\":[\n",
      "    {\n",
      "      \"name\":\"table-aa-sessions\"\n",
      "    }\n",
      "  ]\n",
      "}\n"
     ]
    },
    {
     "data": {
      "text/plain": [
       "[Table: table-aa-sessions]"
      ]
     },
     "execution_count": 9,
     "metadata": {},
     "output_type": "execute_result"
    }
   ],
   "source": [
    "tables = datasets[2].get_tables()\n",
    "tables"
   ]
  },
  {
   "cell_type": "code",
   "execution_count": 11,
   "metadata": {},
   "outputs": [
    {
     "name": "stdout",
     "output_type": "stream",
     "text": [
      "[2018-04-04 02:15:13,823] {classes.delete_rows:159 DEBUG} - Deleting rows with request: https://api.powerbi.com/v1.0/myorg/datasets/5f9b6937-5d00-47bd-9854-4ee648b9f856/tables/table-aa-sessions/rows\n",
      "[2018-04-04 02:15:13,827] {connectionpool._new_conn:824 DEBUG} - Starting new HTTPS connection (1): api.powerbi.com\n",
      "[2018-04-04 02:15:14,100] {connectionpool._make_request:396 DEBUG} - https://api.powerbi.com:443 \"DELETE /v1.0/myorg/datasets/5f9b6937-5d00-47bd-9854-4ee648b9f856/tables/table-aa-sessions/rows HTTP/1.1\" 404 None\n"
     ]
    }
   ],
   "source": [
    "tables[0].delete_rows()"
   ]
  },
  {
   "cell_type": "code",
   "execution_count": 15,
   "metadata": {},
   "outputs": [
    {
     "name": "stdout",
     "output_type": "stream",
     "text": [
      "[2017-11-10 00:06:09,905] {classes.get_tables:71 WARNING} - Non-push datasets do not support table API\n"
     ]
    },
    {
     "data": {
      "text/plain": [
       "[]"
      ]
     },
     "execution_count": 15,
     "metadata": {},
     "output_type": "execute_result"
    }
   ],
   "source": [
    "tables = datasets[3].get_tables()\n",
    "tables"
   ]
  },
  {
   "cell_type": "code",
   "execution_count": 22,
   "metadata": {},
   "outputs": [
    {
     "name": "stdout",
     "output_type": "stream",
     "text": [
      "[2017-11-10 00:25:25,057] {core.request:38 DEBUG} - https://api.powerbi.com/v1.0/myorg/groups/4e4e4bd1-e7da-4a19-abad-0fecd51e9b20/datasets\n",
      "[2017-11-10 00:25:25,061] {connectionpool._new_conn:824 DEBUG} - Starting new HTTPS connection (1): api.powerbi.com\n",
      "[2017-11-10 00:25:25,352] {connectionpool._make_request:396 DEBUG} - https://api.powerbi.com:443 \"GET /v1.0/myorg/groups/4e4e4bd1-e7da-4a19-abad-0fecd51e9b20/datasets HTTP/1.1\" 200 489\n",
      "[2017-11-10 00:25:25,356] {core.request:43 DEBUG} - {\n",
      "  \"@odata.context\":\"http://wabi-uk-south-redirect.analysis.windows.net/v1.0/myorg/groups/4e4e4bd1-e7da-4a19-abad-0fecd51e9b20/$metadata#datasets\",\"value\":[\n",
      "    {\n",
      "      \"id\":\"e6262d39-920b-4307-8d6c-37209a817413\",\"name\":\"cosmosdb_dash\",\"addRowsAPIEnabled\":false,\"configuredBy\":\"powerbimaster2@swearjarbank.onmicrosoft.com\",\"isRefreshable\":true,\"isEffectiveIdentityRequired\":false,\"isEffectiveIdentityRolesRequired\":false\n",
      "    },{\n",
      "      \"id\":\"a69408d7-e1fc-4ffd-857a-37cb25f2fe81\",\"name\":\"Dashboard Usage Metrics Model\",\"addRowsAPIEnabled\":false,\"configuredBy\":\"powerbimaster2@swearjarbank.onmicrosoft.com\",\"isRefreshable\":false,\"isEffectiveIdentityRequired\":false,\"isEffectiveIdentityRolesRequired\":false\n",
      "    },{\n",
      "      \"id\":\"89230206-d927-4da7-9252-9efa1b03486b\",\"name\":\"dataset-audience-analysis\",\"addRowsAPIEnabled\":true,\"configuredBy\":\"powerbimaster2@swearjarbank.onmicrosoft.com\",\"isRefreshable\":true,\"isEffectiveIdentityRequired\":false,\"isEffectiveIdentityRolesRequired\":false\n",
      "    },{\n",
      "      \"id\":\"27cceec5-2da2-4cba-ba1a-f53b4603b376\",\"name\":\"Procurement Analysis Sample\",\"addRowsAPIEnabled\":false,\"configuredBy\":\"powerbimaster2@swearjarbank.onmicrosoft.com\",\"isRefreshable\":true,\"isEffectiveIdentityRequired\":false,\"isEffectiveIdentityRolesRequired\":false\n",
      "    }\n",
      "  ]\n",
      "}\n",
      "[2017-11-10 00:25:25,358] {classes.__repr__:63 DEBUG} - {'_pbi': <pypbi.core.PowerBI object at 0x000001C15CA4F4A8>, '_wks': Workspace ID: 4e4e4bd1-e7da-4a19-abad-0fecd51e9b20 Name: AA, 'wks_id': '4e4e4bd1-e7da-4a19-abad-0fecd51e9b20', 'ds_id': '27cceec5-2da2-4cba-ba1a-f53b4603b376', 'ds_name': 'Procurement Analysis Sample', 'details': {'id': '27cceec5-2da2-4cba-ba1a-f53b4603b376', 'name': 'Procurement Analysis Sample', 'addRowsAPIEnabled': False, 'configuredBy': 'powerbimaster2@swearjarbank.onmicrosoft.com', 'isRefreshable': True, 'isEffectiveIdentityRequired': False, 'isEffectiveIdentityRolesRequired': False}}\n"
     ]
    },
    {
     "data": {
      "text/plain": [
       "Dataset ID: 27cceec5-2da2-4cba-ba1a-f53b4603b376 Name: Procurement Analysis Sample"
      ]
     },
     "execution_count": 22,
     "metadata": {},
     "output_type": "execute_result"
    }
   ],
   "source": [
    "C.Dataset(wks[2], \"27cceec5-2da2-4cba-ba1a-f53b4603b376\")"
   ]
  }
 ],
 "metadata": {
  "kernelspec": {
   "display_name": "Python 3",
   "language": "python",
   "name": "python3"
  },
  "language_info": {
   "codemirror_mode": {
    "name": "ipython",
    "version": 3
   },
   "file_extension": ".py",
   "mimetype": "text/x-python",
   "name": "python",
   "nbconvert_exporter": "python",
   "pygments_lexer": "ipython3",
   "version": "3.6.4"
  }
 },
 "nbformat": 4,
 "nbformat_minor": 2
}
